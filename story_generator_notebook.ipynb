{
 "cells": [
  {
   "cell_type": "markdown",
   "metadata": {},
   "source": [
    "# 📚 AI Story Generator with Images\n",
    "\n",
    "This notebook demonstrates the AI Story Generator using Hugging Face's transformers and diffusers libraries.\n",
    "\n",
    "## Features:\n",
    "- Text generation using pre-trained language models\n",
    "- Image generation using Stable Diffusion\n",
    "- Interactive widgets for user input\n",
    "- Complete story creation with multiple chapters and images\n",
    "\n",
    "Let's get started!"
   ]
  },
  {
   "cell_type": "markdown",
   "metadata": {},
   "source": [
    "## 1. Install and Import Required Libraries"
   ]
  },
  {
   "cell_type": "code",
   "execution_count": null,
   "metadata": {},
   "outputs": [],
   "source": [
    "# Install required packages\n",
    "!pip install -r requirements.txt"
   ]
  },
  {
   "cell_type": "code",
   "execution_count": null,
   "metadata": {},
   "outputs": [],
   "source": [
    "# Import the story generator modules\n",
    "import sys\n",
    "import os\n",
    "sys.path.append('src')\n",
    "\n",
    "from src import StoryGenerator, ImageGenerator, StoryGeneratorApp\n",
    "from src.utils import configure_network_settings, get_sample_prompts, display_usage_tips\n",
    "\n",
    "print(\"All libraries imported successfully!\")"
   ]
  },
  {
   "cell_type": "markdown",
   "metadata": {},
   "source": [
    "## 2. Configure Network Settings"
   ]
  },
  {
   "cell_type": "code",
   "execution_count": null,
   "metadata": {},
   "outputs": [],
   "source": [
    "# Configure network settings for stable model downloads\n",
    "configure_network_settings()"
   ]
  },
  {
   "cell_type": "markdown",
   "metadata": {},
   "source": [
    "## 3. Initialize Story Generator Components"
   ]
  },
  {
   "cell_type": "code",
   "execution_count": null,
   "metadata": {},
   "outputs": [],
   "source": [
    "# Initialize the story generator\n",
    "print(\"Initializing Story Generator...\")\n",
    "story_gen = StoryGenerator()\n",
    "\n",
    "# Initialize the image generator\n",
    "print(\"\\nInitializing Image Generator...\")\n",
    "image_gen = ImageGenerator()\n",
    "image_gen.load_model()\n",
    "\n",
    "print(\"\\n✅ All components initialized!\")"
   ]
  },
  {
   "cell_type": "markdown",
   "metadata": {},
   "source": [
    "## 4. Test Story Generation"
   ]
  },
  {
   "cell_type": "code",
   "execution_count": null,
   "metadata": {},
   "outputs": [],
   "source": [
    "# Test story generation\n",
    "test_prompt = \"In a magical forest where ancient trees whispered secrets\"\n",
    "print(f\"Testing story generation with prompt: '{test_prompt}'\")\n",
    "print(\"=\" * 60)\n",
    "\n",
    "chapter = story_gen.generate_chapter(test_prompt, max_length=120)\n",
    "print(chapter)\n",
    "\n",
    "# Extract scene descriptions\n",
    "scenes = story_gen.extract_scene_descriptions(chapter)\n",
    "print(f\"\\n🎬 Extracted {len(scenes)} visual scenes:\")\n",
    "for i, scene in enumerate(scenes, 1):\n",
    "    print(f\"{i}. {scene}\")"
   ]
  },
  {
   "cell_type": "markdown",
   "metadata": {},
   "source": [
    "## 5. Test Image Generation"
   ]
  },
  {
   "cell_type": "code",
   "execution_count": null,
   "metadata": {},
   "outputs": [],
   "source": [
    "# Test image generation\n",
    "if scenes:\n",
    "    print(\"🎨 Generating test image...\")\n",
    "    test_image = image_gen.generate_image(scenes[0])\n",
    "    image_gen.display_image_with_caption(test_image, f\"Test Scene: {scenes[0][:50]}...\")\n",
    "else:\n",
    "    print(\"No scenes available for image generation\")"
   ]
  },
  {
   "cell_type": "markdown",
   "metadata": {},
   "source": [
    "## 6. Launch Interactive Story Generator App"
   ]
  },
  {
   "cell_type": "code",
   "execution_count": null,
   "metadata": {},
   "outputs": [],
   "source": [
    "# Create and launch the interactive app\n",
    "print(\"🚀 Launching Interactive Story Generator App!\")\n",
    "print(\"=\" * 60)\n",
    "\n",
    "app = StoryGeneratorApp()\n",
    "app.display_app()"
   ]
  },
  {
   "cell_type": "markdown",
   "metadata": {},
   "source": [
    "## 7. Usage Tips and Information"
   ]
  },
  {
   "cell_type": "code",
   "execution_count": null,
   "metadata": {},
   "outputs": [],
   "source": [
    "# Display usage tips\n",
    "display_usage_tips()"
   ]
  },
  {
   "cell_type": "markdown",
   "metadata": {},
   "source": [
    "## 8. Sample Story Prompts"
   ]
  },
  {
   "cell_type": "code",
   "execution_count": null,
   "metadata": {},
   "outputs": [],
   "source": [
    "# Show sample prompts\n",
    "print(\"🎲 Sample Story Prompts:\")\n",
    "print(\"=\" * 50)\n",
    "for i, prompt in enumerate(get_sample_prompts(), 1):\n",
    "    print(f\"{i:2d}. {prompt}\")"
   ]
  },
  {
   "cell_type": "markdown",
   "metadata": {},
   "source": [
    "## 9. Generate Complete Story Example"
   ]
  },
  {
   "cell_type": "code",
   "execution_count": null,
   "metadata": {},
   "outputs": [],
   "source": [
    "# Example: Generate a complete story\n",
    "story_prompt = \"In a hidden valley where dragons and humans lived in harmony\"\n",
    "\n",
    "print(f\"📚 Generating complete story: '{story_prompt}'\")\n",
    "print(\"This may take several minutes...\")\n",
    "\n",
    "# Uncomment the line below to generate a complete story\n",
    "# complete_story = app.generate_complete_story(\n",
    "#     story_prompt,\n",
    "#     num_chapters=3,\n",
    "#     chapter_length=120,\n",
    "#     temperature=0.8,\n",
    "#     art_style=\"fantasy art, detailed, high quality\"\n",
    "# )\n",
    "\n",
    "print(\"💡 Uncomment the code above to generate a complete story!\")"
   ]
  }
 ],
 "metadata": {
  "kernelspec": {
   "display_name": "Python 3",
   "language": "python",
   "name": "python3"
  },
  "language_info": {
   "codemirror_mode": {
    "name": "ipython",
    "version": 3
   },
   "file_extension": ".py",
   "name": "python",
   "nbconvert_exporter": "python",
   "pygments_lexer": "ipython3",
   "version": "3.8.0"
  }
 },
 "nbformat": 4,
 "nbformat_minor": 4
}